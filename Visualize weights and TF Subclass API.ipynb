{
 "cells": [
  {
   "cell_type": "markdown",
   "metadata": {
    "id": "-PZihj-d_tEt"
   },
   "source": [
    "**Assignment 1**\n",
    "\n",
    "## About\n",
    "In this assignment, you will gain experience implementing a linear model, a neural network, and a deep neural network using TensorFlow 2.0. \n",
    "\n",
    "* You will use two different development styles. I thought it’d be helpful for you to see both of these early (if you’re familiar with them, you can branch out to any major framework that exist today). \n",
    "\n",
    "* Along the way, you'll add code to visualize the weights of a linear model, and provide your own implementation of softmax (so you learn to extend the built-in functionality right off the bat).\n",
    "\n",
    "This assignment has several parts, plan ahead and get started early (and come to office hours if you’re stuck, the TAs and I are happy to help). Most concepts will be covered in lecture two, just posting it early.\n",
    "\n",
    "## Instructions\n",
    "\n",
    "Complete the code in this notebook by searching for the text **\"TODO\"**.\n",
    "\n",
    "## Submission instructions\n",
    "\n",
    "Please submit this assignment on CourseWorks by uploading a Jupyter notebook that includes saved output. If you are working in Colab, you can prepare your notebook for submission by ensuring that runs end-to-end, then saving and downloading it:\n",
    "\n",
    "1. ```Runtime -> Restart and run all```\n",
    "1. ```File -> Save```\n",
    "1. ```File -> Download.ipynb```\n",
    "\n",
    "## Resources\n",
    "\n",
    "You can find all the latest tutorials for TensorFlow 2.0 [here](https://www.tensorflow.org/tutorials). Code examples that will help you with each part of the assignment are linked below.\n",
    "\n",
    "\n",
    "\n",
    "---\n",
    "\n"
   ]
  },
  {
   "cell_type": "markdown",
   "metadata": {
    "id": "KZ5ssDBBl9n6"
   },
   "source": [
    "## Setup"
   ]
  },
  {
   "cell_type": "markdown",
   "metadata": {
    "id": "MDj1_w6v-mYW"
   },
   "source": [
    "### Install TensorFlow 2.0\n",
    "\n",
    "The most recent version of TensorFlow is alreadey installed in Colab. If you prefer working in Jupyter locally, you will need to install TensorFlow following these [instructions](http://tensorflow.org/install)."
   ]
  },
  {
   "cell_type": "markdown",
   "metadata": {
    "id": "QYSALG-y-_7b"
   },
   "source": [
    "### Check which TF version is installed\n",
    "It's good practice to check which version you have installed."
   ]
  },
  {
   "cell_type": "code",
   "execution_count": 1,
   "metadata": {
    "colab": {
     "base_uri": "https://localhost:8080/",
     "height": 34
    },
    "id": "21RQ0x71Ut_t",
    "outputId": "e52b6da1-2119-47f5-feb9-aeb18df027c7"
   },
   "outputs": [
    {
     "name": "stdout",
     "output_type": "stream",
     "text": [
      "2.3.0\n"
     ]
    }
   ],
   "source": [
    "import tensorflow as tf\n",
    "print(tf.__version__)"
   ]
  },
  {
   "cell_type": "code",
   "execution_count": 2,
   "metadata": {
    "id": "JQPA61YHUvht"
   },
   "outputs": [],
   "source": [
    "from tensorflow.keras.layers import Dense, Flatten \n",
    "from tensorflow.keras import Model\n",
    "import matplotlib.pyplot as plt"
   ]
  },
  {
   "cell_type": "markdown",
   "metadata": {
    "id": "9vfWS0eYvzae"
   },
   "source": [
    "## Part 1: First steps with Sequential models\n",
    "\n",
    "You will work with the Sequential API in this section. This is the easiest way to develop models with TF 2.0, and is the most common in practice. \n",
    "\n",
    "Here are a few code examples that will help you with this part of the assignment:\n",
    "\n",
    "* [Get started for beginners](https://www.tensorflow.org/tutorials/quickstart/beginner)\n",
    "* [Classify images](https://www.tensorflow.org/tutorials/keras/basic_classification)\n",
    "* [Explore overfitting and underfitting](https://www.tensorflow.org/tutorials/keras/overfit_and_underfit)"
   ]
  },
  {
   "cell_type": "markdown",
   "metadata": {
    "id": "6X5681LTm0jC"
   },
   "source": [
    "### Download and prepare a dataset"
   ]
  },
  {
   "cell_type": "code",
   "execution_count": 3,
   "metadata": {
    "id": "KHL51OKlmwyw"
   },
   "outputs": [],
   "source": [
    "mnist = tf.keras.datasets.mnist\n",
    "\n",
    "(x_train, y_train), (x_test, y_test) = mnist.load_data()\n",
    "x_train, x_test = x_train / 255.0, x_test / 255.0"
   ]
  },
  {
   "cell_type": "markdown",
   "metadata": {
    "id": "daw-THC6m4u6"
   },
   "source": [
    "### Define, train, and evaluate a linear model"
   ]
  },
  {
   "cell_type": "code",
   "execution_count": 4,
   "metadata": {
    "colab": {
     "base_uri": "https://localhost:8080/",
     "height": 221
    },
    "id": "MHWcSJEQm8jB",
    "outputId": "a8722f5b-c4be-486e-ea7e-16b85e5a9d02"
   },
   "outputs": [
    {
     "name": "stdout",
     "output_type": "stream",
     "text": [
      "Epoch 1/5\n",
      "1875/1875 [==============================] - 3s 2ms/step - loss: 0.4744 - accuracy: 0.8747\n",
      "Epoch 2/5\n",
      "1875/1875 [==============================] - 3s 2ms/step - loss: 0.3046 - accuracy: 0.9152\n",
      "Epoch 3/5\n",
      "1875/1875 [==============================] - 3s 2ms/step - loss: 0.2833 - accuracy: 0.9205\n",
      "Epoch 4/5\n",
      "1875/1875 [==============================] - 3s 2ms/step - loss: 0.2737 - accuracy: 0.9235\n",
      "Epoch 5/5\n",
      "1875/1875 [==============================] - 3s 2ms/step - loss: 0.2664 - accuracy: 0.9256\n",
      "313/313 [==============================] - 1s 2ms/step - loss: 0.2674 - accuracy: 0.9246\n"
     ]
    },
    {
     "data": {
      "text/plain": [
       "[0.2673512101173401, 0.9246000051498413]"
      ]
     },
     "execution_count": 4,
     "metadata": {
      "tags": []
     },
     "output_type": "execute_result"
    }
   ],
   "source": [
    "model = tf.keras.models.Sequential([\n",
    "  tf.keras.layers.Flatten(input_shape=(28, 28)),\n",
    "  tf.keras.layers.Dense(10, activation='softmax')\n",
    "])\n",
    "\n",
    "model.compile(optimizer='adam',\n",
    "              loss='sparse_categorical_crossentropy',\n",
    "              metrics=['accuracy'])\n",
    "\n",
    "model.fit(x_train, y_train, epochs=5)\n",
    "model.evaluate(x_test, y_test)"
   ]
  },
  {
   "cell_type": "markdown",
   "metadata": {
    "id": "KyLE9HJbwRDp"
   },
   "source": [
    "### 1a: Plot loss and accuracy\n",
    "\n",
    "**TODO**\n",
    "\n",
    "Modify the code below to produce plots showing loss and accuracy as a function of epochs on training and validation data (it's fine to use x_test and y_test as validation data for this assignment). To do so, you will need to add validation data to the call for ```model.fit```, and capture the results in a history object. Code for plotting is provided for you, you can pass your history object to this.\n",
    "\n",
    "![Plot 1](https://storage.googleapis.com/applied-dl/im/a1-1.png)\n",
    "![Plot 2](https://storage.googleapis.com/applied-dl/im/a1-2.png)\n"
   ]
  },
  {
   "cell_type": "code",
   "execution_count": 5,
   "metadata": {
    "colab": {
     "base_uri": "https://localhost:8080/",
     "height": 913
    },
    "id": "xGFjRexynN11",
    "outputId": "7289a52c-7835-4497-c776-4025b718bb6c"
   },
   "outputs": [
    {
     "name": "stdout",
     "output_type": "stream",
     "text": [
      "Epoch 1/10\n",
      "1500/1500 [==============================] - 3s 2ms/step - loss: 0.5075 - accuracy: 0.8674 - val_loss: 0.3179 - val_accuracy: 0.9125\n",
      "Epoch 2/10\n",
      "1500/1500 [==============================] - 3s 2ms/step - loss: 0.3168 - accuracy: 0.9120 - val_loss: 0.2864 - val_accuracy: 0.9197\n",
      "Epoch 3/10\n",
      "1500/1500 [==============================] - 3s 2ms/step - loss: 0.2934 - accuracy: 0.9172 - val_loss: 0.2758 - val_accuracy: 0.9237\n",
      "Epoch 4/10\n",
      "1500/1500 [==============================] - 3s 2ms/step - loss: 0.2808 - accuracy: 0.9219 - val_loss: 0.2716 - val_accuracy: 0.9230\n",
      "Epoch 5/10\n",
      "1500/1500 [==============================] - 3s 2ms/step - loss: 0.2738 - accuracy: 0.9231 - val_loss: 0.2650 - val_accuracy: 0.9277\n",
      "Epoch 6/10\n",
      "1500/1500 [==============================] - 3s 2ms/step - loss: 0.2676 - accuracy: 0.9256 - val_loss: 0.2643 - val_accuracy: 0.9286\n",
      "Epoch 7/10\n",
      "1500/1500 [==============================] - 3s 2ms/step - loss: 0.2642 - accuracy: 0.9262 - val_loss: 0.2658 - val_accuracy: 0.9284\n",
      "Epoch 8/10\n",
      "1500/1500 [==============================] - 3s 2ms/step - loss: 0.2611 - accuracy: 0.9273 - val_loss: 0.2634 - val_accuracy: 0.9276\n",
      "Epoch 9/10\n",
      "1500/1500 [==============================] - 3s 2ms/step - loss: 0.2579 - accuracy: 0.9283 - val_loss: 0.2598 - val_accuracy: 0.9307\n",
      "Epoch 10/10\n",
      "1500/1500 [==============================] - 3s 2ms/step - loss: 0.2553 - accuracy: 0.9290 - val_loss: 0.2640 - val_accuracy: 0.9283\n"
     ]
    },
    {
     "data": {
      "image/png": "[encoded data removed]",
      "text/plain": [
       "<Figure size 432x288 with 1 Axes>"
      ]
     },
     "metadata": {
      "needs_background": "light",
      "tags": []
     },
     "output_type": "display_data"
    },
    {
     "data": {
      "image/png": "[encoded data removed]",
      "text/plain": [
       "<Figure size 432x288 with 1 Axes>"
      ]
     },
     "metadata": {
      "needs_background": "light",
      "tags": []
     },
     "output_type": "display_data"
    }
   ],
   "source": [
    "model = tf.keras.models.Sequential([\n",
    "  tf.keras.layers.Flatten(input_shape=(28, 28)),\n",
    "  tf.keras.layers.Dense(10, activation='softmax')\n",
    "])\n",
    "\n",
    "model.compile(optimizer='adam',\n",
    "              loss='sparse_categorical_crossentropy',\n",
    "              metrics=['accuracy'])\n",
    "\n",
    "\n",
    "# TODO\n",
    "#\n",
    "# 1. create a history object to store the results of model.fit\n",
    "# ```history = model.fit(...)```\n",
    "#\n",
    "# 2. add another parameter to model.fit for validation data\n",
    "# https://keras.io/models/sequential/\n",
    "history = model.fit(x_train, y_train, epochs=10,\n",
    "                    validation_split = 0.2)\n",
    "\n",
    "# A plotting function you can reuse\n",
    "def plot(history):\n",
    "  \n",
    "  # The history object contains results on the training and test\n",
    "  # sets for each epoch\n",
    "  acc = history.history['accuracy']\n",
    "  val_acc = history.history['val_accuracy']\n",
    "  loss = history.history['loss']\n",
    "  val_loss = history.history['val_loss']\n",
    "\n",
    "  # Get the number of epochs\n",
    "  epochs = range(len(acc))\n",
    "\n",
    "  plt.title('Training and validation accuracy')\n",
    "  plt.plot(epochs, acc, color='blue', label='Train')\n",
    "  plt.plot(epochs, val_acc, color='orange', label='Val')\n",
    "  plt.xlabel('Epoch')\n",
    "  plt.ylabel('Accuracy')\n",
    "  plt.legend()\n",
    "\n",
    "  _ = plt.figure()\n",
    "  plt.title('Training and validation loss')\n",
    "  plt.plot(epochs, loss, color='blue', label='Train')\n",
    "  plt.plot(epochs, val_loss, color='orange', label='Val')\n",
    "  plt.xlabel('Epoch')\n",
    "  plt.ylabel('Loss')\n",
    "  plt.legend()\n",
    "  \n",
    "plot(history)"
   ]
  },
  {
   "cell_type": "markdown",
   "metadata": {
    "id": "4EhrKNT8wfgD"
   },
   "source": [
    "### 1b: Implement a neural network \n",
    "\n",
    "**TODO**\n",
    "\n",
    "Modify the code below to create a neural network (with a single hidden layer). Add a Dense layer with 128 units and ReLU activation. Train and evaluate your model. How does the accuracy compare with the linear model above? It is not necessary to produce plots for this section."
   ]
  },
  {
   "cell_type": "code",
   "execution_count": 6,
   "metadata": {
    "colab": {
     "base_uri": "https://localhost:8080/",
     "height": 221
    },
    "id": "FYUgpSwPq-HF",
    "outputId": "60a94a42-3303-4065-bd1a-0aac0f49a418"
   },
   "outputs": [
    {
     "name": "stdout",
     "output_type": "stream",
     "text": [
      "Epoch 1/5\n",
      "1500/1500 [==============================] - 3s 2ms/step - loss: 0.2874 - accuracy: 0.9174 - val_loss: 0.1529 - val_accuracy: 0.9576\n",
      "Epoch 2/5\n",
      "1500/1500 [==============================] - 3s 2ms/step - loss: 0.1276 - accuracy: 0.9615 - val_loss: 0.1138 - val_accuracy: 0.9688\n",
      "Epoch 3/5\n",
      "1500/1500 [==============================] - 3s 2ms/step - loss: 0.0861 - accuracy: 0.9745 - val_loss: 0.0947 - val_accuracy: 0.9726\n",
      "Epoch 4/5\n",
      "1500/1500 [==============================] - 3s 2ms/step - loss: 0.0634 - accuracy: 0.9812 - val_loss: 0.0968 - val_accuracy: 0.9715\n",
      "Epoch 5/5\n",
      "1500/1500 [==============================] - 3s 2ms/step - loss: 0.0500 - accuracy: 0.9850 - val_loss: 0.0983 - val_accuracy: 0.9726\n",
      "313/313 [==============================] - 1s 2ms/step - loss: 0.0855 - accuracy: 0.9735\n"
     ]
    },
    {
     "data": {
      "text/plain": [
       "[0.08546392619609833, 0.9735000133514404]"
      ]
     },
     "execution_count": 6,
     "metadata": {
      "tags": []
     },
     "output_type": "execute_result"
    }
   ],
   "source": [
    "model = tf.keras.models.Sequential([\n",
    "  tf.keras.layers.Flatten(input_shape=(28, 28)),\n",
    "  # TODO: Add a layer here\n",
    "  tf.keras.layers.Dense(128, activation='relu'),\n",
    "  tf.keras.layers.Dense(10, activation='softmax')\n",
    "])\n",
    "\n",
    "model.compile(optimizer='adam',\n",
    "              loss='sparse_categorical_crossentropy',\n",
    "              metrics=['accuracy'])\n",
    "\n",
    "model.fit(x_train, y_train, epochs=5,\n",
    "          validation_split = 0.2)\n",
    "model.evaluate(x_test, y_test)"
   ]
  },
  {
   "cell_type": "markdown",
   "metadata": {
    "id": "HcqnzL_FaqI4"
   },
   "source": [
    "Comparing neural network with one hidden layer to neural net with not hidden layers, we see approx. 5% increase in accuracy (92.8% -> 98.59%) in validation set. This shows that neural net with one hidden layer was able to capture more complex information from the data which was helpful for classification. "
   ]
  },
  {
   "cell_type": "markdown",
   "metadata": {
    "id": "V18pDvPzwh6l"
   },
   "source": [
    "### 1c: Implement a deep neural network \n",
    "\n",
    "**TODO**\n",
    "\n",
    "Modify the code below to create and train a deep neural network with at least two hidden layers."
   ]
  },
  {
   "cell_type": "code",
   "execution_count": 7,
   "metadata": {
    "colab": {
     "base_uri": "https://localhost:8080/",
     "height": 204
    },
    "id": "K0odgGhmrNNh",
    "outputId": "7e3af96b-c83e-433c-85cf-a7c268828607"
   },
   "outputs": [
    {
     "name": "stdout",
     "output_type": "stream",
     "text": [
      "Epoch 1/5\n",
      "1875/1875 [==============================] - 4s 2ms/step - loss: 0.2484 - accuracy: 0.9254\n",
      "Epoch 2/5\n",
      "1875/1875 [==============================] - 4s 2ms/step - loss: 0.1021 - accuracy: 0.9684\n",
      "Epoch 3/5\n",
      "1875/1875 [==============================] - 4s 2ms/step - loss: 0.0740 - accuracy: 0.9773\n",
      "Epoch 4/5\n",
      "1875/1875 [==============================] - 4s 2ms/step - loss: 0.0568 - accuracy: 0.9816\n",
      "Epoch 5/5\n",
      "1875/1875 [==============================] - 4s 2ms/step - loss: 0.0478 - accuracy: 0.9847\n"
     ]
    },
    {
     "data": {
      "text/plain": [
       "<tensorflow.python.keras.callbacks.History at 0x7f0fcc4b16a0>"
      ]
     },
     "execution_count": 7,
     "metadata": {
      "tags": []
     },
     "output_type": "execute_result"
    }
   ],
   "source": [
    "model = tf.keras.models.Sequential([\n",
    "  tf.keras.layers.Flatten(input_shape=(28, 28)),\n",
    "  # TODO: Add two layers here\n",
    "  tf.keras.layers.Dense(128, activation='relu'),\n",
    "  tf.keras.layers.Dense(64, activation='relu'),\n",
    "  tf.keras.layers.Dense(32, activation='relu'),\n",
    "  tf.keras.layers.Dense(10, activation='softmax')\n",
    "])\n",
    "\n",
    "model.compile(optimizer='adam',\n",
    "              loss='sparse_categorical_crossentropy',\n",
    "              metrics=['accuracy'])\n",
    "\n",
    "model.fit(x_train, y_train, epochs=5)"
   ]
  },
  {
   "cell_type": "markdown",
   "metadata": {
    "id": "NkmnVGG-wnyw"
   },
   "source": [
    "### 1d: Display predictions and their confidence \n",
    "\n",
    "**TODO**\n",
    "\n",
    "1. Choose one of your models above. Use it to make predictions on the entire test set using ```model.predict```\n",
    "\n",
    "2. Next, identify one image from the testing set the model classifies correctly, and another that it classifies incorrectly. Add code to display these images below, the correct labels, the predicted labels, and the confidence scores."
   ]
  },
  {
   "cell_type": "code",
   "execution_count": 8,
   "metadata": {
    "colab": {
     "base_uri": "https://localhost:8080/",
     "height": 346
    },
    "id": "BPd5NvaV1XEx",
    "outputId": "7433f0ec-b28c-4ab9-a309-98f2d5e6eca9"
   },
   "outputs": [
    {
     "data": {
      "text/plain": [
       "Text(0.5, 1.0, 'Incorrectly identified image')"
      ]
     },
     "execution_count": 8,
     "metadata": {
      "tags": []
     },
     "output_type": "execute_result"
    },
    {
     "data": {
      "image/png": "[encoded data removed]",
      "text/plain": [
       "<Figure size 576x288 with 2 Axes>"
      ]
     },
     "metadata": {
      "needs_background": "light",
      "tags": []
     },
     "output_type": "display_data"
    }
   ],
   "source": [
    "# TODO: add your code here\n",
    "# TODO: add your code here\n",
    "import numpy as np\n",
    "from sklearn.metrics import confusion_matrix\n",
    "\n",
    "test_preds = model.predict(x_test)\n",
    "test_preds_labels = np.argmax(test_preds, axis=1)\n",
    "\n",
    "correct_ind = np.where(test_preds_labels == y_test)[0]\n",
    "incorrect_ind = np.where(test_preds_labels != y_test)[0]\n",
    "#confusion_matrix(test_preds_labels, y_test)\n",
    "\n",
    "np.random.seed(4)\n",
    "\n",
    "correct_img_index = np.random.choice(correct_ind, size = 1)\n",
    "incorrect_img_index = np.random.choice(incorrect_ind, size = 1)\n",
    "\n",
    "fig, ax = plt.subplots(1, 2, figsize=(8,4))\n",
    "ax[0].imshow(x_test[correct_img_index].reshape(28,28), plt.get_cmap('gray'))\n",
    "ax[0].text(13, 32, 'True label: {}'.format(y_test[correct_img_index][0]), ha = 'center', size = 12)\n",
    "ax[0].text(13, 35, 'Predicted label: {}'.format(test_preds_labels[correct_img_index][0]), ha = 'center', size = 12)\n",
    "ax[0].text(13, 38, 'Confidence: {:%}'.format(test_preds[correct_img_index, test_preds_labels[correct_img_index]][0]), ha = 'center', size = 12)\n",
    "ax[0].set_title('Correctly identified image')\n",
    "\n",
    "ax[1].imshow(x_test[incorrect_img_index].reshape(28,28), plt.get_cmap('gray'))\n",
    "ax[1].text(13, 32, 'True label: {}'.format(y_test[incorrect_img_index][0]), ha = 'center', size = 12)\n",
    "ax[1].text(13, 35, 'Predicted label: {}'.format(test_preds_labels[incorrect_img_index][0]), ha = 'center', size = 12)\n",
    "ax[1].text(13, 38, 'Confidence: {:%}'.format(test_preds[incorrect_img_index, test_preds_labels[incorrect_img_index]][0]), ha = 'center', size = 12)\n",
    "ax[1].set_title('Incorrectly identified image')\n"
   ]
  },
  {
   "cell_type": "markdown",
   "metadata": {
    "id": "ca0nFGJdv3H2"
   },
   "source": [
    "## Part 2: Subclassed models\n",
    "\n",
    "In this part of the assignment, you'll work with the Keras Subclassing API. Instead of using a built-in method (```model.fit```) you will train models using a GradientTape.\n",
    "\n",
    "Here are a few code examples that will help you with this part of the assignment:\n",
    "\n",
    "* [Get started for experts](https://www.tensorflow.org/tutorials/quickstart/advanced)\n",
    "* [Eager execution](https://www.tensorflow.org/guide/eager)\n",
    "* [Keras overview](https://www.tensorflow.org/guide/keras/overview)\n",
    "* [Writing custom models](https://www.tensorflow.org/guide/keras/custom_layers_and_models)"
   ]
  },
  {
   "cell_type": "markdown",
   "metadata": {
    "id": "xB6r75B5teHv"
   },
   "source": [
    "### Download and prepare a dataset\n",
    "This is similar to the above, except now we'll use ```tf.data``` to batch and shuffle the data, instead of the utilities baked into ```model.fit```. It's not necessary for this assignment, but if you wish, you can learn how to use tf.data [here](https://www.tensorflow.org/guide/data)."
   ]
  },
  {
   "cell_type": "code",
   "execution_count": 9,
   "metadata": {
    "id": "kYbkeJJqtm0h"
   },
   "outputs": [],
   "source": [
    "# Download a dataset\n",
    "(x_train, y_train), (x_test, y_test) = tf.keras.datasets.mnist.load_data()\n",
    "\n",
    "# Batch and shuffle the data\n",
    "train_ds = tf.data.Dataset.from_tensor_slices(\n",
    "    (x_train.astype('float32') / 255, y_train)).shuffle(1024).batch(32)\n",
    "\n",
    "test_ds = tf.data.Dataset.from_tensor_slices(\n",
    "    (x_test.astype('float32') / 255, y_test)).batch(32)"
   ]
  },
  {
   "cell_type": "code",
   "execution_count": 10,
   "metadata": {
    "colab": {
     "base_uri": "https://localhost:8080/",
     "height": 282
    },
    "id": "_JlSs-3qvCgi",
    "outputId": "49847219-652d-4e20-a3f7-054eb139b366"
   },
   "outputs": [
    {
     "name": "stdout",
     "output_type": "stream",
     "text": [
      "tf.Tensor(6, shape=(), dtype=uint8)\n"
     ]
    },
    {
     "data": {
      "image/png": "[encoded data removed]",
      "text/plain": [
       "<Figure size 432x288 with 1 Axes>"
      ]
     },
     "metadata": {
      "needs_background": "light",
      "tags": []
     },
     "output_type": "display_data"
    }
   ],
   "source": [
    "# A quick example of iterating over a dataset object\n",
    "for image, label in train_ds.take(1):\n",
    "  plt.imshow(image[0], plt.get_cmap('gray'))\n",
    "  print(label[0])"
   ]
  },
  {
   "cell_type": "markdown",
   "metadata": {
    "id": "0Nmw1h6stTg5"
   },
   "source": [
    "### Define and train a linear model"
   ]
  },
  {
   "cell_type": "code",
   "execution_count": 11,
   "metadata": {
    "id": "BWGJoufMtbHA"
   },
   "outputs": [],
   "source": [
    "class MyLinearModel(Model):\n",
    "  def __init__(self):\n",
    "    super(MyLinearModel, self).__init__()\n",
    "    self.flatten = Flatten()\n",
    "    self.d1 = Dense(10, activation='softmax', name=\"dense1\")\n",
    "\n",
    "  def call(self, x):\n",
    "    x = self.flatten(x)\n",
    "    return self.d1(x)"
   ]
  },
  {
   "cell_type": "code",
   "execution_count": 12,
   "metadata": {
    "colab": {
     "base_uri": "https://localhost:8080/",
     "height": 102
    },
    "id": "35tIz37EttdP",
    "outputId": "21105afc-bbf3-43de-fe0d-19e1bd5cf744"
   },
   "outputs": [
    {
     "name": "stdout",
     "output_type": "stream",
     "text": [
      "Epoch 0, Test loss: 0.4786829352378845\n",
      "Epoch 1, Test loss: 0.39962029457092285\n",
      "Epoch 2, Test loss: 0.3669128119945526\n",
      "Epoch 3, Test loss: 0.34793561697006226\n",
      "Epoch 4, Test loss: 0.3354374170303345\n"
     ]
    }
   ],
   "source": [
    "model = MyLinearModel()\n",
    "\n",
    "loss_fn = tf.keras.losses.SparseCategoricalCrossentropy()\n",
    "optimizer = tf.keras.optimizers.SGD()\n",
    "\n",
    "# For each epoch\n",
    "for epoch in range(5):\n",
    "\n",
    "  # For each batch of images and labels\n",
    "  for images, labels in train_ds:\n",
    "\n",
    "    # Open a GradientTape.\n",
    "    with tf.GradientTape() as tape:\n",
    "\n",
    "      # Forward pass\n",
    "      predictions = model(images)\n",
    "\n",
    "      # Calculate loss\n",
    "      loss = loss_fn(labels, predictions)\n",
    "\n",
    "    # Backprop to calculate gradients\n",
    "    gradients = tape.gradient(loss, model.trainable_variables)\n",
    "\n",
    "    # Gradient descent step\n",
    "    optimizer.apply_gradients(zip(gradients, model.trainable_variables))\n",
    "\n",
    "  # Calculate loss on the test data\n",
    "  test_loss = []\n",
    "  for images, labels in test_ds: \n",
    "    predictions = model(images)\n",
    "    loss_on_batch = loss_fn(labels, predictions)\n",
    "    test_loss.append(loss_on_batch)\n",
    "    \n",
    "  print(\"Epoch {}, Test loss: {}\".format(epoch, tf.reduce_mean(test_loss)))"
   ]
  },
  {
   "cell_type": "markdown",
   "metadata": {
    "id": "mEO51Mvi1jOT"
   },
   "source": [
    "Note: you may have noticed that the above code runs slowly (it's executing eagerly). Later in this notebook, you will compile your code (to run it in graph mode) using ```@tf.function```. The general workflow is to write your code without using tf.function (as shown above, which makes for easier debugging). Once you've finished debugging your model, you can add ```@tf.function``` for performance if necessary."
   ]
  },
  {
   "cell_type": "markdown",
   "metadata": {
    "id": "dj7Y8JWgwv9Z"
   },
   "source": [
    "### 2a: Visualize the learned weights\n",
    "\n",
    "We can interpret a linear model by looking at the weights of the fully connected layer. Modify the below code to create a plot similar to the one on from lecture 1:\n",
    "\n",
    "![Plot of weights](https://storage.googleapis.com/applied-dl/im/mnist-weights.png)\n",
    "\n",
    "**TODO**\n",
    "\n",
    "Modify the below code to retrieve the learned weights. You can use either the public API of a model ```model.get_layer(name)``` then retrieve the weights from that, or (because our model is defined using the Subclassing API), you can access the dense layer directly ```model.d1```."
   ]
  },
  {
   "cell_type": "code",
   "execution_count": 13,
   "metadata": {
    "colab": {
     "base_uri": "https://localhost:8080/",
     "height": 34
    },
    "id": "JiQZV03RuWHM",
    "outputId": "2fb7ad4d-b7aa-4b5e-fc33-6448416c9af5"
   },
   "outputs": [
    {
     "name": "stdout",
     "output_type": "stream",
     "text": [
      "(784, 10)\n"
     ]
    }
   ],
   "source": [
    "# There are two ways to retrieve the weights. You can use the public API\n",
    "# (model.get_layer(name).get_weights()), or, you can access the dense layer \n",
    "# directly (model.dl) then find the accessor method, or again, access the\n",
    "# variable directly.\n",
    "# Python tip: try ```dir(model.d1)```\n",
    "\n",
    "# TODO: modify this code to get the weights\n",
    "weights, bias = model.d1.get_weights() # get the weights\n",
    "print(weights.shape)"
   ]
  },
  {
   "cell_type": "code",
   "execution_count": 14,
   "metadata": {
    "colab": {
     "base_uri": "https://localhost:8080/",
     "height": 141
    },
    "id": "oz3VV2EiuY7X",
    "outputId": "a212f985-d431-486f-c954-4a07343c7e02"
   },
   "outputs": [
    {
     "data": {
      "image/png": "[encoded data removed]",
      "text/plain": [
       "<Figure size 1440x1440 with 10 Axes>"
      ]
     },
     "metadata": {
      "needs_background": "light",
      "tags": []
     },
     "output_type": "display_data"
    }
   ],
   "source": [
    "fig, axs = plt.subplots(1,10, figsize=(20,20))\n",
    "for i in range(10):\n",
    "  subplot = axs[i]\n",
    "  subplot.set_title(i)\n",
    "  subplot.axis('off')\n",
    "  # TODO: modify this code to complete the plotting function\n",
    "  i_weights = weights[:,i] # Select the weights for the i'th output\n",
    "  img = i_weights.reshape(28,28) # Reshape the weights into a 28x28 array\n",
    "  subplot.imshow(img, plt.get_cmap('RdBu'))\n",
    "plt.show()"
   ]
  },
  {
   "cell_type": "markdown",
   "metadata": {
    "id": "HNBCIqzdw2GS"
   },
   "source": [
    "### 2b: Implement a deep neural network\n",
    "\n",
    "**TODO**\n",
    "\n",
    "Modify this code to create a deep neural network. Train your model using the code below, and compare the accuracy to the linear model above. \n",
    "\n",
    "Note: you do not need to modify any sections other than the model definition and the call method. \n",
    "\n",
    "The code below uses compiled versions of the training and evaluation loops (remove the ```@tf.function``` annotations if you need to debug)."
   ]
  },
  {
   "cell_type": "code",
   "execution_count": 15,
   "metadata": {
    "id": "rxoIfq91xDRZ"
   },
   "outputs": [],
   "source": [
    "class MyDNN(Model):\n",
    "  def __init__(self):\n",
    "    super(MyDNN, self).__init__()\n",
    "    self.flatten = Flatten()\n",
    "    # Modify me\n",
    "    self.l1 = Dense(128,activation='relu')\n",
    "    self.l2 = Dense(64, activation='relu')\n",
    "    self.d1 = Dense(10, activation='softmax')\n",
    "\n",
    "  def call(self, x):\n",
    "    x = self.flatten(x)\n",
    "    x = self.l1(x)\n",
    "    x = self.l2(x)\n",
    "    return self.d1(x)\n",
    "\n",
    "model = MyDNN()"
   ]
  },
  {
   "cell_type": "code",
   "execution_count": 16,
   "metadata": {
    "id": "hVDDq2orxPBR"
   },
   "outputs": [],
   "source": [
    "loss_object = tf.keras.losses.SparseCategoricalCrossentropy()\n",
    "optimizer = tf.keras.optimizers.Adam()"
   ]
  },
  {
   "cell_type": "markdown",
   "metadata": {
    "id": "WNC0K6JPxy-g"
   },
   "source": [
    "These are helper functions we'll use to record loss and accuracy while your model is trained."
   ]
  },
  {
   "cell_type": "code",
   "execution_count": 17,
   "metadata": {
    "id": "duYKrACkxRHw"
   },
   "outputs": [],
   "source": [
    "train_loss = tf.keras.metrics.Mean(name='train_loss')\n",
    "train_accuracy = tf.keras.metrics.SparseCategoricalAccuracy(name='train_accuracy')\n",
    "\n",
    "test_loss = tf.keras.metrics.Mean(name='test_loss')\n",
    "test_accuracy = tf.keras.metrics.SparseCategoricalAccuracy(name='test_accuracy')"
   ]
  },
  {
   "cell_type": "markdown",
   "metadata": {
    "id": "C_oUQki5x0lD"
   },
   "source": [
    "This method trains the model on a batch of data."
   ]
  },
  {
   "cell_type": "code",
   "execution_count": 18,
   "metadata": {
    "id": "yTQAnrOAxUAu"
   },
   "outputs": [],
   "source": [
    "@tf.function\n",
    "def train_step(images, labels):\n",
    "  with tf.GradientTape() as tape:\n",
    "    predictions = model(images)\n",
    "    loss = loss_object(labels, predictions)\n",
    "  gradients = tape.gradient(loss, model.trainable_variables)\n",
    "  optimizer.apply_gradients(zip(gradients, model.trainable_variables))\n",
    "\n",
    "  train_loss(loss)\n",
    "  train_accuracy(labels, predictions)"
   ]
  },
  {
   "cell_type": "markdown",
   "metadata": {
    "id": "-lUJFkfux44o"
   },
   "source": [
    "This method evaluates the model on a batch of data."
   ]
  },
  {
   "cell_type": "code",
   "execution_count": 19,
   "metadata": {
    "id": "BTMp9PwZxV5h"
   },
   "outputs": [],
   "source": [
    "@tf.function\n",
    "def test_step(images, labels):\n",
    "  predictions = model(images)\n",
    "  t_loss = loss_object(labels, predictions)\n",
    "\n",
    "  test_loss(t_loss)\n",
    "  test_accuracy(labels, predictions)"
   ]
  },
  {
   "cell_type": "markdown",
   "metadata": {
    "id": "AR0_bNd-x6OE"
   },
   "source": [
    "Training and evaluation loop."
   ]
  },
  {
   "cell_type": "code",
   "execution_count": 20,
   "metadata": {
    "colab": {
     "base_uri": "https://localhost:8080/",
     "height": 102
    },
    "id": "enHqlaCfxXq3",
    "outputId": "9478329c-2b9e-440e-a857-45508a97ef6c"
   },
   "outputs": [
    {
     "name": "stdout",
     "output_type": "stream",
     "text": [
      "Epoch 1, Loss: 0.23510780930519104, Accuracy: 93.12333679199219, Test Loss: 0.12853319942951202, Test Accuracy: 96.10000610351562\n",
      "Epoch 2, Loss: 0.09916936606168747, Accuracy: 97.01667022705078, Test Loss: 0.13081413507461548, Test Accuracy: 96.17000579833984\n",
      "Epoch 3, Loss: 0.06810899823904037, Accuracy: 97.86000061035156, Test Loss: 0.09318985790014267, Test Accuracy: 97.3499984741211\n",
      "Epoch 4, Loss: 0.052373334765434265, Accuracy: 98.29166412353516, Test Loss: 0.08615615218877792, Test Accuracy: 97.48999786376953\n",
      "Epoch 5, Loss: 0.03985549882054329, Accuracy: 98.70166778564453, Test Loss: 0.08217605203390121, Test Accuracy: 97.68000030517578\n"
     ]
    }
   ],
   "source": [
    "EPOCHS = 5\n",
    "\n",
    "for epoch in range(EPOCHS):\n",
    "  for images, labels in train_ds:\n",
    "    train_step(images, labels)\n",
    "\n",
    "  for test_images, test_labels in test_ds:\n",
    "    test_step(test_images, test_labels)\n",
    "\n",
    "  template = 'Epoch {}, Loss: {}, Accuracy: {}, Test Loss: {}, Test Accuracy: {}'\n",
    "  print(template.format(epoch+1,\n",
    "                        train_loss.result(),\n",
    "                        train_accuracy.result()*100,\n",
    "                        test_loss.result(),\n",
    "                        test_accuracy.result()*100))\n",
    "\n",
    "  # Reset the metrics for the next epoch\n",
    "  train_loss.reset_states()\n",
    "  train_accuracy.reset_states()\n",
    "  test_loss.reset_states()\n",
    "  test_accuracy.reset_states()"
   ]
  },
  {
   "cell_type": "markdown",
   "metadata": {
    "id": "yxbGV9Q-cYBM"
   },
   "source": [
    "Comparing the above model with linear model, we see that the loss reduces to 0.09 from 0.33 meaning above model is much better as compared to the linear model."
   ]
  },
  {
   "cell_type": "markdown",
   "metadata": {
    "id": "ZxjIFiyBPorB"
   },
   "source": [
    "### 2c: Provide your own implementation of softmax and use it to train a model\n",
    "\n",
    "In your linear model above, the starter code looked similar to: \n",
    "\n",
    "\n",
    "```\n",
    "class LinearModel(Model):\n",
    "  def __init__(self):\n",
    "    super(LinearModel, self).__init__()\n",
    "    self.flatten = Flatten()\n",
    "    self.d1 = Dense(10, activation='softmax')\n",
    "\n",
    "  def call(self, x):\n",
    "    x = self.flatten(x)\n",
    "    return self.d1(x)\n",
    "``` \n",
    "\n",
    "Now, create a function:\n",
    "\n",
    "\n",
    "```\n",
    "def my_softmax(logits):\n",
    "  # ...\n",
    "```\n",
    "\n",
    "and use it in your model as follows:\n",
    "\n",
    "\n",
    "```\n",
    "class LinearModel(Model):\n",
    "  def __init__(self):\n",
    "    super(LinearModel, self).__init__()\n",
    "    self.flatten = Flatten()\n",
    "    self.d1 = Dense(10)\n",
    "\n",
    "  def call(self, x):\n",
    "    x = self.flatten(x)\n",
    "    x = self.d1(x)\n",
    "    return my_softmax(x)\n",
    "``` \n",
    "\n",
    "Notice, we've removed the built-in activation method on the Dense layer, and added our own to the call method.\n",
    "\n",
    "Tip: You can implement softmax first using NumPy, if you like, the gradually convert your code to use TensorFlow ops (which begin with tf.\\* instead of np.\\*).\n",
    "\n",
    "Notes: \n",
    "\n",
    "- Your softmax implementation should be numerically stable. \n",
    "- You will need to use tf.* ops in order to use your code to train a model (TF cannot backprop through NumPy operations)."
   ]
  },
  {
   "cell_type": "code",
   "execution_count": 21,
   "metadata": {
    "colab": {
     "base_uri": "https://localhost:8080/",
     "height": 102
    },
    "id": "SiLj-uFrRAn-",
    "outputId": "a478128f-fb46-43cd-c0af-4f36c701c5e7"
   },
   "outputs": [
    {
     "name": "stdout",
     "output_type": "stream",
     "text": [
      "Epoch 1, Loss: 0.3560088574886322, Accuracy: 90.0566635131836, Test Loss: 0.2881966829299927, Test Accuracy: 91.88999938964844\n",
      "Epoch 2, Loss: 0.2877148389816284, Accuracy: 91.96166229248047, Test Loss: 0.27447181940078735, Test Accuracy: 92.20999908447266\n",
      "Epoch 3, Loss: 0.27359867095947266, Accuracy: 92.29833221435547, Test Loss: 0.26679807901382446, Test Accuracy: 92.43000030517578\n",
      "Epoch 4, Loss: 0.2641370892524719, Accuracy: 92.66832733154297, Test Loss: 0.2624841034412384, Test Accuracy: 92.5199966430664\n",
      "Epoch 5, Loss: 0.2593003213405609, Accuracy: 92.72666931152344, Test Loss: 0.25948184728622437, Test Accuracy: 92.55999755859375\n"
     ]
    }
   ],
   "source": [
    "# TODO: your code here\n",
    "def my_softmax(x):  \n",
    "  # Write me\n",
    "  z = x - tf.reduce_max(x)\n",
    "  numerator = tf.exp(z)\n",
    "  denominator = tf.reduce_sum(numerator)\n",
    "  return numerator/denominator\n",
    "\n",
    "class MyModel(Model):\n",
    "  def __init__(self):\n",
    "    super(MyModel, self).__init__()\n",
    "    self.flatten = Flatten()\n",
    "    self.d1 = Dense(10)\n",
    "\n",
    "  def call(self, x):\n",
    "    x = self.flatten(x)\n",
    "    x = self.d1(x)\n",
    "    return my_softmax(x)\n",
    "  \n",
    "model = MyModel()\n",
    "\n",
    "\n",
    "@tf.function\n",
    "def train_step(images, labels):\n",
    "  with tf.GradientTape() as tape:\n",
    "    predictions = model(images)\n",
    "    loss = loss_object(labels, predictions)\n",
    "  gradients = tape.gradient(loss, model.trainable_variables)\n",
    "  optimizer.apply_gradients(zip(gradients, model.trainable_variables))\n",
    "\n",
    "  train_loss(loss)\n",
    "  train_accuracy(labels, predictions)\n",
    "\n",
    "@tf.function\n",
    "def test_step(images, labels):\n",
    "  predictions = model(images)\n",
    "  t_loss = loss_object(labels, predictions)\n",
    "\n",
    "  test_loss(t_loss)\n",
    "  test_accuracy(labels, predictions)\n",
    "# TODO\n",
    "# Add code to train this model\n",
    "# When it's trained, the accuracy should be similar to the linear\n",
    "# model from part one (but not identical, the weights are initialized randomly)\n",
    "EPOCHS = 5\n",
    "\n",
    "for epoch in range(EPOCHS):\n",
    "  for images, labels in train_ds:\n",
    "    train_step(images, labels)\n",
    "\n",
    "  for test_images, test_labels in test_ds:\n",
    "    test_step(test_images, test_labels)\n",
    "\n",
    "  template = 'Epoch {}, Loss: {}, Accuracy: {}, Test Loss: {}, Test Accuracy: {}'\n",
    "  print(template.format(epoch+1,\n",
    "                        train_loss.result(),\n",
    "                        train_accuracy.result()*100,\n",
    "                        test_loss.result(),\n",
    "                        test_accuracy.result()*100))\n",
    "\n",
    "  # Reset the metrics for the next epoch\n",
    "  train_loss.reset_states()\n",
    "  train_accuracy.reset_states()\n",
    "  test_loss.reset_states()\n",
    "  test_accuracy.reset_states()"
   ]
  },
  {
   "cell_type": "markdown",
   "metadata": {
    "id": "wyQ0PDkyeG6s"
   },
   "source": [
    "The test loss for linear model ranges between 0.47 to 0.33 and test loss for second model with custom softmax function ranges between 0.35 to 0.25"
   ]
  },
  {
   "cell_type": "code",
   "execution_count": 21,
   "metadata": {
    "id": "oWq-PEM4cs35"
   },
   "outputs": [],
   "source": []
  }
 ],
 "metadata": {
  "accelerator": "GPU",
  "colab": {
   "collapsed_sections": [],
   "name": "hw1_1.ipynb",
   "provenance": []
  },
  "kernelspec": {
   "display_name": "Python 3",
   "language": "python",
   "name": "python3"
  },
  "language_info": {
   "codemirror_mode": {
    "name": "ipython",
    "version": 3
   },
   "file_extension": ".py",
   "mimetype": "text/x-python",
   "name": "python",
   "nbconvert_exporter": "python",
   "pygments_lexer": "ipython3",
   "version": "3.6.8"
  }
 },
 "nbformat": 4,
 "nbformat_minor": 1
}
