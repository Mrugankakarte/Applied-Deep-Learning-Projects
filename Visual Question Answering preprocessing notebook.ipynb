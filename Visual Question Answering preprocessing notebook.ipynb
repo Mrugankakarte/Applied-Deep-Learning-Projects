{
 "cells": [
  {
   "cell_type": "code",
   "execution_count": null,
   "metadata": {
    "colab": {
     "base_uri": "https://localhost:8080/"
    },
    "id": "0n9_voJaZg54",
    "outputId": "71933612-fd02-4235-d08c-add3e2393db3"
   },
   "outputs": [
    {
     "name": "stdout",
     "output_type": "stream",
     "text": [
      "  % Total    % Received % Xferd  Average Speed   Time    Time     Time  Current\n",
      "                                 Dload  Upload   Total   Spent    Left  Speed\n",
      "100 12.5G  100 12.5G    0     0  16.4M      0  0:13:04  0:13:04 --:--:-- 16.0M\n"
     ]
    }
   ],
   "source": [
    "!curl -L -O http://images.cocodataset.org/zips/train2014.zip"
   ]
  },
  {
   "cell_type": "code",
   "execution_count": null,
   "metadata": {
    "id": "WrLabL3HZx9U"
   },
   "outputs": [],
   "source": [
    "#!cp train2014.zip /content/drive/MyDrive/ADL/HW4/cocotrain2014.zip"
   ]
  },
  {
   "cell_type": "code",
   "execution_count": null,
   "metadata": {
    "id": "HQOoPFfLdTgo"
   },
   "outputs": [],
   "source": [
    "!unzip -q train2014.zip -d cocotrain"
   ]
  },
  {
   "cell_type": "code",
   "execution_count": null,
   "metadata": {
    "colab": {
     "base_uri": "https://localhost:8080/"
    },
    "id": "Jvrkc27NfaIN",
    "outputId": "db6eef28-bb7b-4513-d88b-a7ebbd84659e"
   },
   "outputs": [
    {
     "name": "stdout",
     "output_type": "stream",
     "text": [
      "total 13G\n",
      "drwxr-xr-x 1 root root 4.0K Nov 20 21:17 .\n",
      "drwxr-xr-x 1 root root 4.0K Nov 20 20:43 ..\n",
      "drwxr-xr-x 3 root root 4.0K Nov 20 21:09 cocotrain\n",
      "drwxr-xr-x 1 root root 4.0K Nov 13 17:34 .config\n",
      "drwx------ 4 root root 4.0K Nov 20 20:44 drive\n",
      "drwxr-xr-x 1 root root 4.0K Nov 13 17:33 sample_data\n",
      "-rw-r--r-- 1 root root 1.3M Nov 20 21:17 starter2.csv\n",
      "-rw-r--r-- 1 root root  13G Nov 20 20:58 train2014.zip\n"
     ]
    }
   ],
   "source": [
    "!ls -lha\n",
    "#!du -sh"
   ]
  },
  {
   "cell_type": "markdown",
   "metadata": {
    "id": "tRsiBCnkhHsV"
   },
   "source": [
    "### Loading libraries"
   ]
  },
  {
   "cell_type": "code",
   "execution_count": null,
   "metadata": {
    "colab": {
     "base_uri": "https://localhost:8080/"
    },
    "id": "dPGje0Nvf4jE",
    "outputId": "4d830203-69a5-4ca1-cc39-0bb922634ebb"
   },
   "outputs": [
    {
     "name": "stdout",
     "output_type": "stream",
     "text": [
      "Requirement already satisfied: Pillow in /usr/local/lib/python3.6/dist-packages (7.0.0)\n"
     ]
    }
   ],
   "source": [
    "!pip install Pillow # used to resize images"
   ]
  },
  {
   "cell_type": "code",
   "execution_count": null,
   "metadata": {
    "id": "WOOINuoUf8lm"
   },
   "outputs": [],
   "source": [
    "import matplotlib.image as mpimg\n",
    "import matplotlib.pyplot as plt\n",
    "import numpy as np\n",
    "import os\n",
    "import pickle\n",
    "import random\n",
    "import shutil\n",
    "import time\n",
    "import pandas as pd\n",
    "\n",
    "\n",
    "from google.colab import drive\n",
    "from PIL import Image\n",
    "from sklearn.model_selection import train_test_split\n",
    "\n",
    "import tensorflow as tf"
   ]
  },
  {
   "cell_type": "markdown",
   "metadata": {
    "id": "g3IYhYWigoNP"
   },
   "source": [
    "## Downloading starter csv file"
   ]
  },
  {
   "cell_type": "code",
   "execution_count": null,
   "metadata": {
    "id": "jyvfxEh8frB7"
   },
   "outputs": [],
   "source": [
    "# Starter code to download small files\n",
    "# Use this to download your starter CSV in notebook one and two.\n",
    "# Also use it to download your thumbnails.zip in notebook two.\n",
    "def download_if_missing(url, target, extract=True):\n",
    "  if os.path.exists(target):\n",
    "    return target\n",
    "  return tf.keras.utils.get_file(target, origin=url, extract=extract)"
   ]
  },
  {
   "cell_type": "code",
   "execution_count": null,
   "metadata": {
    "colab": {
     "base_uri": "https://localhost:8080/",
     "height": 69
    },
    "id": "OgOTP5xwfq_J",
    "outputId": "ee2f6f25-800d-4d74-ebdd-8991d4f9be1c"
   },
   "outputs": [
    {
     "name": "stdout",
     "output_type": "stream",
     "text": [
      "Downloading data from https://storage.googleapis.com/applied-dl/mini-vqa/starter2.csv\n",
      "1335296/1329146 [==============================] - 0s 0us/step\n"
     ]
    },
    {
     "data": {
      "application/vnd.google.colaboratory.intrinsic+json": {
       "type": "string"
      },
      "text/plain": [
       "'/content/starter2.csv'"
      ]
     },
     "execution_count": 9,
     "metadata": {
      "tags": []
     },
     "output_type": "execute_result"
    }
   ],
   "source": [
    "colab_root = \"/content/\"\n",
    "\n",
    "csv_path = os.path.join(colab_root, \"starter2.csv\")\n",
    "download_if_missing(\"https://storage.googleapis.com/applied-dl/mini-vqa/starter2.csv\",\n",
    "                     csv_path)"
   ]
  },
  {
   "cell_type": "code",
   "execution_count": null,
   "metadata": {
    "colab": {
     "base_uri": "https://localhost:8080/"
    },
    "id": "NLxBzt56fq7u",
    "outputId": "db063417-c740-4a3b-9973-a14ae2972bdc"
   },
   "outputs": [
    {
     "name": "stdout",
     "output_type": "stream",
     "text": [
      "is this man a professional baseball player,yes,COCO_train2014_000000458752.jpg\n",
      "is the dog waiting,yes,COCO_train2014_000000524291.jpg\n",
      "is the sky blue,yes,COCO_train2014_000000393221.jpg\n"
     ]
    }
   ],
   "source": [
    "!head $csv_path -n3 # take a look at a few rows"
   ]
  },
  {
   "cell_type": "code",
   "execution_count": null,
   "metadata": {
    "colab": {
     "base_uri": "https://localhost:8080/"
    },
    "id": "r-BtITewfq4T",
    "outputId": "b5dff0d7-e0fb-409f-a34c-1ca046e71e41"
   },
   "outputs": [
    {
     "name": "stdout",
     "output_type": "stream",
     "text": [
      "20000 /content/starter2.csv\n"
     ]
    }
   ],
   "source": [
    "!wc -l $csv_path"
   ]
  },
  {
   "cell_type": "code",
   "execution_count": null,
   "metadata": {
    "colab": {
     "base_uri": "https://localhost:8080/",
     "height": 204
    },
    "id": "C8QLBp1Lfq0a",
    "outputId": "8d1b669b-f535-4124-d24e-112286b4e716"
   },
   "outputs": [
    {
     "data": {
      "text/html": [
       "<div>\n",
       "<style scoped>\n",
       "    .dataframe tbody tr th:only-of-type {\n",
       "        vertical-align: middle;\n",
       "    }\n",
       "\n",
       "    .dataframe tbody tr th {\n",
       "        vertical-align: top;\n",
       "    }\n",
       "\n",
       "    .dataframe thead th {\n",
       "        text-align: right;\n",
       "    }\n",
       "</style>\n",
       "<table border=\"1\" class=\"dataframe\">\n",
       "  <thead>\n",
       "    <tr style=\"text-align: right;\">\n",
       "      <th></th>\n",
       "      <th>question</th>\n",
       "      <th>answer</th>\n",
       "      <th>image</th>\n",
       "    </tr>\n",
       "  </thead>\n",
       "  <tbody>\n",
       "    <tr>\n",
       "      <th>0</th>\n",
       "      <td>is this man a professional baseball player</td>\n",
       "      <td>yes</td>\n",
       "      <td>COCO_train2014_000000458752.jpg</td>\n",
       "    </tr>\n",
       "    <tr>\n",
       "      <th>1</th>\n",
       "      <td>is the dog waiting</td>\n",
       "      <td>yes</td>\n",
       "      <td>COCO_train2014_000000524291.jpg</td>\n",
       "    </tr>\n",
       "    <tr>\n",
       "      <th>2</th>\n",
       "      <td>is the sky blue</td>\n",
       "      <td>yes</td>\n",
       "      <td>COCO_train2014_000000393221.jpg</td>\n",
       "    </tr>\n",
       "    <tr>\n",
       "      <th>3</th>\n",
       "      <td>is the window open</td>\n",
       "      <td>yes</td>\n",
       "      <td>COCO_train2014_000000393223.jpg</td>\n",
       "    </tr>\n",
       "    <tr>\n",
       "      <th>4</th>\n",
       "      <td>is the man smiling</td>\n",
       "      <td>no</td>\n",
       "      <td>COCO_train2014_000000393224.jpg</td>\n",
       "    </tr>\n",
       "  </tbody>\n",
       "</table>\n",
       "</div>"
      ],
      "text/plain": [
       "                                     question  ...                            image\n",
       "0  is this man a professional baseball player  ...  COCO_train2014_000000458752.jpg\n",
       "1                          is the dog waiting  ...  COCO_train2014_000000524291.jpg\n",
       "2                             is the sky blue  ...  COCO_train2014_000000393221.jpg\n",
       "3                          is the window open  ...  COCO_train2014_000000393223.jpg\n",
       "4                          is the man smiling  ...  COCO_train2014_000000393224.jpg\n",
       "\n",
       "[5 rows x 3 columns]"
      ]
     },
     "execution_count": 16,
     "metadata": {
      "tags": []
     },
     "output_type": "execute_result"
    }
   ],
   "source": [
    "def make_data(csv_path):\n",
    "\n",
    "    df = pd.read_csv(csv_path, header=None)\n",
    "    df.columns = ['question', 'answer', 'image']\n",
    "\n",
    "    return df\n",
    "\n",
    "df = make_data(csv_path)\n",
    "df.head()"
   ]
  },
  {
   "cell_type": "code",
   "execution_count": null,
   "metadata": {
    "id": "VmBA8G_lfqva"
   },
   "outputs": [],
   "source": [
    "## check for all images \n",
    "\n",
    "coco_images_folder = 'cocotrain/train2014/'\n",
    "\n",
    "for img in df['image']:\n",
    "    assert os.path.exists(os.path.join(coco_images_folder, img))"
   ]
  },
  {
   "cell_type": "code",
   "execution_count": null,
   "metadata": {
    "id": "fPgX1bqSfqpG"
   },
   "outputs": [],
   "source": [
    "## Resizing images\n",
    "size = 299, 299\n",
    "coco_images_folder = 'cocotrain/train2014/'\n",
    "output_directory = '/content/drive/MyDrive/ADL/HW4/cocotrain_subset/'\n",
    "\n",
    "for img in df['image']:\n",
    "    path_to_image = os.path.join(coco_images_folder, img)\n",
    "    im = Image.open(path_to_image)\n",
    "    im.thumbnail(size)\n",
    "    out_file = os.path.join(output_directory, img)\n",
    "    im.save(out_file, \"JPEG\")"
   ]
  },
  {
   "cell_type": "code",
   "execution_count": null,
   "metadata": {
    "colab": {
     "base_uri": "https://localhost:8080/",
     "height": 286
    },
    "id": "ByhlIYKuoJhx",
    "outputId": "c4682369-37b4-4571-aaa1-75a0589e50df"
   },
   "outputs": [
    {
     "name": "stdout",
     "output_type": "stream",
     "text": [
      "Image size:  (200, 299)\n"
     ]
    },
    {
     "data": {
      "image/png": "[encoded data removed]",
      "text/plain": [
       "<Figure size 432x288 with 1 Axes>"
      ]
     },
     "metadata": {
      "needs_background": "light",
      "tags": []
     },
     "output_type": "display_data"
    }
   ],
   "source": [
    "## verify images and its size\n",
    "\n",
    "# randomly sample images from starter csv and check its dimensions\n",
    "img = np.random.choice(df['image'])\n",
    "im = Image.open(os.path.join(output_directory, img))\n",
    "plt.imshow(im)\n",
    "print('Image size: ',im.size)\n"
   ]
  },
  {
   "cell_type": "code",
   "execution_count": null,
   "metadata": {
    "id": "KG3GIlhFrHH6"
   },
   "outputs": [],
   "source": [
    "## removing original images and zip file\n",
    "!rm -rf train2014.zip\n",
    "print('deleted zip file')\n",
    "!rm -rf -r cocotrain\n",
    "print('Deleted unzipped images')\n",
    "\n",
    "## Check for all resized images\n",
    "\n",
    "for img in df['image']:\n",
    "    assert os.path.exists(os.path.join(output_directory, img))"
   ]
  },
  {
   "cell_type": "code",
   "execution_count": null,
   "metadata": {
    "colab": {
     "base_uri": "https://localhost:8080/",
     "height": 35
    },
    "id": "55S559R5wtt0",
    "outputId": "ac566af7-979f-499b-9f9b-5c8d5de0fdf4"
   },
   "outputs": [
    {
     "data": {
      "application/vnd.google.colaboratory.intrinsic+json": {
       "type": "string"
      },
      "text/plain": [
       "'/content/thumbnails.zip'"
      ]
     },
     "execution_count": 46,
     "metadata": {
      "tags": []
     },
     "output_type": "execute_result"
    }
   ],
   "source": [
    "## Zipping the resized data\n",
    "shutil.make_archive('thumbnails', 'zip', output_directory)"
   ]
  },
  {
   "cell_type": "code",
   "execution_count": null,
   "metadata": {
    "colab": {
     "base_uri": "https://localhost:8080/"
    },
    "id": "FgY8yfu-xkJQ",
    "outputId": "8f5369ed-4015-4f7c-b69f-dedf71f24a1d"
   },
   "outputs": [
    {
     "name": "stdout",
     "output_type": "stream",
     "text": [
      "267874499 bytes\n"
     ]
    }
   ],
   "source": [
    "print(os.path.getsize(\"thumbnails.zip\"), 'bytes')"
   ]
  },
  {
   "cell_type": "code",
   "execution_count": null,
   "metadata": {
    "id": "_SdLzbM2x_6q"
   },
   "outputs": [],
   "source": []
  },
  {
   "cell_type": "code",
   "execution_count": null,
   "metadata": {
    "id": "pBgW-IKQ6urX"
   },
   "outputs": [],
   "source": []
  }
 ],
 "metadata": {
  "colab": {
   "name": "a4_preprocessing.ipynb",
   "provenance": []
  },
  "kernelspec": {
   "display_name": "Python 3",
   "name": "python3"
  }
 },
 "nbformat": 4,
 "nbformat_minor": 0
}
